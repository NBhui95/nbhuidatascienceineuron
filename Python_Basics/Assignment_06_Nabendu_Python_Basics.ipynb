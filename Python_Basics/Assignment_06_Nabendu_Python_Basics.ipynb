{
  "nbformat": 4,
  "nbformat_minor": 0,
  "metadata": {
    "colab": {
      "provenance": []
    },
    "kernelspec": {
      "name": "python3",
      "display_name": "Python 3"
    },
    "language_info": {
      "name": "python"
    }
  },
  "cells": [
    {
      "cell_type": "markdown",
      "source": [
        "1. What are escape characters, and how do you use them?"
      ],
      "metadata": {
        "id": "LImmgaao6Ism"
      }
    },
    {
      "cell_type": "code",
      "execution_count": 2,
      "metadata": {
        "id": "5OO6oT8VFAhQ",
        "colab": {
          "base_uri": "https://localhost:8080/"
        },
        "outputId": "b282ec41-e79e-4f36-f682-7738f97f7efd"
      },
      "outputs": [
        {
          "output_type": "stream",
          "name": "stdout",
          "text": [
            "I Love \"Indian's\".\n"
          ]
        }
      ],
      "source": [
        "                                                        ###  Answer  ###                 \n",
        "'''\n",
        "\n",
        "Escape characters represent characters in string values that would otherwise be difficult or impossible to type into code. \n",
        "The escape character allows yus to use double quotes when you normally would not be allowed.\n",
        "\n",
        "'''\n",
        "\n",
        "data1 = \"I Love \\\"Indian's\\\".\"\n",
        "print(data1) \n"
      ]
    },
    {
      "cell_type": "markdown",
      "source": [
        "2. What do the escape characters n and t stand for?"
      ],
      "metadata": {
        "id": "rrBmUU9S6K_L"
      }
    },
    {
      "cell_type": "code",
      "source": [
        "                                                        ###  Answer  ###                 \n",
        "'''\n",
        "\n",
        "The escape characters n and t stand for newline and tab respectively. \\n is a newline; \\t is a tab\n",
        "\n",
        "'''\n"
      ],
      "metadata": {
        "id": "MFEGIMtJ6KcV"
      },
      "execution_count": null,
      "outputs": []
    },
    {
      "cell_type": "markdown",
      "source": [
        "3. What is the way to include backslash characters in a string?"
      ],
      "metadata": {
        "id": "iuWNqhuP6LyD"
      }
    },
    {
      "cell_type": "code",
      "source": [
        "                                                        ###  Answer  ###                 \n",
        "'''\n",
        "\n",
        "The \\ escape character will represent a backslash character.\n",
        "\n",
        "'''\n"
      ],
      "metadata": {
        "id": "ZIw2slOV6L4s"
      },
      "execution_count": null,
      "outputs": []
    },
    {
      "cell_type": "markdown",
      "source": [
        "4. The string \"Howl's Moving Castle\" is a correct value. Why isn't the single quote character in the word Howl's not escaped a problem?"
      ],
      "metadata": {
        "id": "9G0-OEF76MEB"
      }
    },
    {
      "cell_type": "code",
      "source": [
        "                                                        ###  Answer  ###                 \n",
        "'''\n",
        "\n",
        "The single quote in Howl's is fine because we have used double quotes to mark the beginning and end of the string.\n",
        "\n",
        "'''\n",
        "\n",
        "data2 = \"Howl's Moving Castle\"\n",
        "print(data2) "
      ],
      "metadata": {
        "id": "9B-seuNC6MKH",
        "colab": {
          "base_uri": "https://localhost:8080/"
        },
        "outputId": "665d29c7-428b-44df-d46e-05060cf04628"
      },
      "execution_count": 3,
      "outputs": [
        {
          "output_type": "stream",
          "name": "stdout",
          "text": [
            "Howl's Moving Castle\n"
          ]
        }
      ]
    },
    {
      "cell_type": "markdown",
      "source": [
        "5. How do you write a string of newlines if you don't want to use the n character?"
      ],
      "metadata": {
        "id": "9S70sSmp6MRH"
      }
    },
    {
      "cell_type": "code",
      "source": [
        "                                                        ###  Answer  ###                 \n",
        "'''\n",
        "\n",
        "Multiline strings allow us to use newlines in strings without the \\n escape character.\n",
        "\n",
        "'''\n"
      ],
      "metadata": {
        "id": "Qfa_MiOI6MYP"
      },
      "execution_count": null,
      "outputs": []
    },
    {
      "cell_type": "markdown",
      "source": [
        "6. What are the values of the given expressions?\n",
        "\n",
        "  'Hello, world!'[1]\n",
        "\n",
        "  'Hello, world!'[0:5]\n",
        "\n",
        "  'Hello, world!'[:5]\n",
        "\n",
        "  'Hello, world!'[3:]"
      ],
      "metadata": {
        "id": "6WhQNzij6MfP"
      }
    },
    {
      "cell_type": "code",
      "source": [
        "                                                        ###  Answer  ###                 \n",
        "print('Hello, world!'[1])\n",
        "print('Hello, world!'[0:5])\n",
        "print('Hello, world!'[:5])\n",
        "print('Hello, world!'[3:])\n",
        "print()\n"
      ],
      "metadata": {
        "id": "CvSR7M5D6MmO",
        "colab": {
          "base_uri": "https://localhost:8080/"
        },
        "outputId": "5739b002-8637-4069-9232-7c264bc89308"
      },
      "execution_count": 5,
      "outputs": [
        {
          "output_type": "stream",
          "name": "stdout",
          "text": [
            "e\n",
            "Hello\n",
            "Hello\n",
            "lo, world!\n",
            "\n"
          ]
        }
      ]
    },
    {
      "cell_type": "markdown",
      "source": [
        "7. What are the values of the following expressions?\n",
        "\n",
        "  'Hello'.upper()\n",
        "\n",
        "  'Hello'.upper().isupper()\n",
        "  \n",
        "  'Hello'.upper().lower()"
      ],
      "metadata": {
        "id": "v1voOCw66Mu7"
      }
    },
    {
      "cell_type": "code",
      "source": [
        "                                                        ###  Answer  ###                 \n",
        "print('Hello'.upper())\n",
        "print('Hello'.upper().isupper())\n",
        "print('Hello'.upper().lower())\n",
        "print()\n"
      ],
      "metadata": {
        "id": "sjnVvBMk6M3R",
        "colab": {
          "base_uri": "https://localhost:8080/"
        },
        "outputId": "632300dc-0155-4e0b-e640-c633f3d71fc0"
      },
      "execution_count": 7,
      "outputs": [
        {
          "output_type": "stream",
          "name": "stdout",
          "text": [
            "HELLO\n",
            "True\n",
            "hello\n",
            "\n"
          ]
        }
      ]
    },
    {
      "cell_type": "markdown",
      "source": [
        "8. What are the values of the following expressions?\n",
        "\n",
        "  'Remember, remember, the fifth of July.'.split()\n",
        "\n",
        "  '-'.join('There can only one.'.split())"
      ],
      "metadata": {
        "id": "51iltESW6OO_"
      }
    },
    {
      "cell_type": "code",
      "source": [
        "                                                        ###  Answer  ###                 \n",
        "print('Remember, remember, the fifth of July.'.split())\n",
        "print('-'.join('There can only one.'.split()))\n",
        "print()\n"
      ],
      "metadata": {
        "id": "evdENiow6OW8",
        "colab": {
          "base_uri": "https://localhost:8080/"
        },
        "outputId": "8501bc15-ef77-4723-d3e2-2adf2ab37fc9"
      },
      "execution_count": 8,
      "outputs": [
        {
          "output_type": "stream",
          "name": "stdout",
          "text": [
            "['Remember,', 'remember,', 'the', 'fifth', 'of', 'July.']\n",
            "There-can-only-one.\n",
            "\n"
          ]
        }
      ]
    },
    {
      "cell_type": "markdown",
      "source": [
        "9. What are the methods for right-justifying, left-justifying, and centering a string?"
      ],
      "metadata": {
        "id": "0IZEqcAI6Ofp"
      }
    },
    {
      "cell_type": "code",
      "source": [
        "                                                        ###  Answer  ###                 \n",
        "'''\n",
        "\n",
        "The rjust(), ljust(), and center() string methods, respectively are the methods for right-justifying, left-justifying, and centering a string\n",
        "\n",
        "'''\n",
        "\n",
        "data3 =\"I Love Python\"\n",
        "print (data3.rjust(40, '*'))\n",
        "print (data3.ljust(40, '*'))\n",
        "print (data3.center(40, '*'))\n"
      ],
      "metadata": {
        "id": "p3ppu8Zj6Onk",
        "colab": {
          "base_uri": "https://localhost:8080/"
        },
        "outputId": "06571bcf-a794-4fdf-c621-42e274e48e1d"
      },
      "execution_count": 10,
      "outputs": [
        {
          "output_type": "stream",
          "name": "stdout",
          "text": [
            "***************************I Love Python\n",
            "I Love Python***************************\n",
            "*************I Love Python**************\n"
          ]
        }
      ]
    },
    {
      "cell_type": "markdown",
      "source": [
        "10. What is the best way to remove whitespace characters from the start or end?"
      ],
      "metadata": {
        "id": "xQ6r_jMS6OvC"
      }
    },
    {
      "cell_type": "code",
      "source": [
        "                                                        ###  Answer  ###                 \n",
        "'''\n",
        "\n",
        "The lstrip() and rstrip() methods remove whitespace from the left and right ends of a string, respectively.\n",
        "\n",
        "'''\n",
        "\n",
        "data3 =\"*************I Love Python**************\"\n",
        "print ( data3.lstrip('*') )\n",
        "print ( data3.rstrip('*') )\n",
        "print ( data3.strip('*') )\n"
      ],
      "metadata": {
        "id": "NAmJTJGp6O1q",
        "colab": {
          "base_uri": "https://localhost:8080/"
        },
        "outputId": "7e6e81ce-bb82-4ea0-b972-46a5119f8ad6"
      },
      "execution_count": 13,
      "outputs": [
        {
          "output_type": "stream",
          "name": "stdout",
          "text": [
            "I Love Python**************\n",
            "*************I Love Python\n",
            "I Love Python\n"
          ]
        }
      ]
    },
    {
      "cell_type": "markdown",
      "source": [
        "."
      ],
      "metadata": {
        "id": "_tzoStqa6gvg"
      }
    }
  ]
}